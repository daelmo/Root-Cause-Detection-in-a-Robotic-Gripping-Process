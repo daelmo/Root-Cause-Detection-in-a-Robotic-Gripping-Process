{
 "cells": [
  {
   "cell_type": "code",
   "execution_count": 1,
   "id": "c6174007",
   "metadata": {},
   "outputs": [],
   "source": [
    "import pandas as pd\n",
    "import matplotlib.pyplot as plt\n",
    "import numpy as np\n",
    "import networkx as nx"
   ]
  },
  {
   "cell_type": "code",
   "execution_count": 2,
   "id": "33915c6b",
   "metadata": {},
   "outputs": [],
   "source": [
    "G = nx.DiGraph()\n",
    "G.add_edges_from( [\n",
    "('PlateNotInPlace (Boolean)', 'plateInGrippingPosition (Boolean)'), \n",
    "( 'beltSpeed (Centimeters/Second)', 'plateInGrippingPosition (Boolean)'),    \n",
    "('plateInGrippingPosition (Boolean)', 'SensorBelt_detectionDistance (Meters)' ),\n",
    "('beltIsBroken (Boolean)' , 'beltSpeed (Centimeters/Second)'),      \n",
    "('plateInGrippingPosition (Boolean)', 'plateIsGripped (Boolean)'),\n",
    "('robotsAreBroken (Boolean)', 'robotsAreMoving (Boolean)'),\n",
    "('robotsAreMoving (Boolean)', 'robotsInDepositPosition (Boolean)' ),\n",
    "('robotsAreMoving (Boolean)', 'robotsInGrippingPosition (Boolean)'),\n",
    "('magneticPowerGripper (Gauss)', 'plateIsGripped (Boolean)'),\n",
    "('robotsInGrippingPosition (Boolean)', 'plateIsGripped (Boolean)' ) ,\n",
    "( 'plateIsGripped (Boolean)', 'plateDetectedOnShelf (Boolean)'), \n",
    "(  'plateInGrippingPosition (Boolean)', 'plateIsGripped (Boolean)'), \n",
    "( 'plateIsGripped (Boolean)', 'plateDetectedOnShelf (Boolean)'), \n",
    "( 'robotsAreMoving (Boolean)', 'plateDetectedOnShelf (Boolean)'), \n",
    "( 'powerConsumptionGripper (Watt)', 'magneticPowerGripper (Gauss)' ),\n",
    "('plateIsGripped (Boolean)', 'plateDetectedOnShelf (Boolean)' ),\n",
    "('magneticPowerGripper (Gauss)', 'plateIsGripped (Boolean)'),\n",
    "('plateIsGripped (Boolean)', 'plateDetectedOnShelf (Boolean)' ),\n",
    "('magneticPowerTooLowForPlate (Boolean)', 'magneticPowerGripper (Gauss)'),\n",
    "\n",
    "( 'sensorShelf_detectionDistance (Meters)' ,'plateDetectedOnShelf (Boolean)'  ),\n",
    "('shelfSensorIsBroken (Boolean)', 'sensorShelf_detectionDistance (Meters)'),\n",
    "\n",
    "( 'robotsInDepositPosition (Boolean)', 'plateDetectedOnShelf (Boolean)'),\n",
    "    \n",
    "(  'robotsInGrippingPosition (Boolean)', 'RobotsWereInGrippingPosition (Boolean)'),\n",
    "(  'robotsInDepositPosition (Boolean)', 'RobotsWereInDepositPosition (Boolean)'),    \n",
    "( 'robotsInGrippingPosition (Boolean)','robot1_jointAngle1 (Degrees)'), \n",
    "( 'robotsInGrippingPosition (Boolean)','robot1_jointAngle2 (Degrees)'), \n",
    "( 'robotsInGrippingPosition (Boolean)','robot1_jointAngle3 (Degrees)'), \n",
    "( 'robotsInGrippingPosition (Boolean)','robot1_jointAngle4 (Degrees)'), \n",
    "( 'robotsInGrippingPosition (Boolean)','robot1_jointAngle5 (Degrees)'), \n",
    "( 'robotsInGrippingPosition (Boolean)','robot1_jointAngle6 (Degrees)'), \n",
    "( 'robotsInGrippingPosition (Boolean)','robot1_jointAngle7 (Degrees)'), \n",
    "( 'robotsInGrippingPosition (Boolean)','robot2_jointAngle1 (Degrees)'), \n",
    "( 'robotsInGrippingPosition (Boolean)','robot2_jointAngle2 (Degrees)'), \n",
    "( 'robotsInGrippingPosition (Boolean)','robot2_jointAngle3 (Degrees)'), \n",
    "( 'robotsInGrippingPosition (Boolean)','robot2_jointAngle4 (Degrees)'), \n",
    "( 'robotsInGrippingPosition (Boolean)','robot2_jointAngle5 (Degrees)'), \n",
    "( 'robotsInGrippingPosition (Boolean)','robot2_jointAngle6 (Degrees)'), \n",
    "( 'robotsInGrippingPosition (Boolean)','robot2_jointAngle7 (Degrees)'), \n",
    "( 'robotsInDepositPosition (Boolean)','robot1_jointAngle1 (Degrees)'), \n",
    "( 'robotsInDepositPosition (Boolean)','robot1_jointAngle2 (Degrees)'), \n",
    "( 'robotsInDepositPosition (Boolean)','robot1_jointAngle3 (Degrees)'), \n",
    "( 'robotsInDepositPosition (Boolean)','robot1_jointAngle4 (Degrees)'), \n",
    "( 'robotsInDepositPosition (Boolean)','robot1_jointAngle5 (Degrees)'), \n",
    "( 'robotsInDepositPosition (Boolean)','robot1_jointAngle6 (Degrees)'), \n",
    "( 'robotsInDepositPosition (Boolean)','robot1_jointAngle7 (Degrees)'), \n",
    "( 'robotsInDepositPosition (Boolean)','robot2_jointAngle1 (Degrees)'), \n",
    "( 'robotsInDepositPosition (Boolean)','robot2_jointAngle2 (Degrees)'), \n",
    "( 'robotsInDepositPosition (Boolean)','robot2_jointAngle3 (Degrees)'), \n",
    "( 'robotsInDepositPosition (Boolean)','robot2_jointAngle4 (Degrees)'), \n",
    "( 'robotsInDepositPosition (Boolean)','robot2_jointAngle5 (Degrees)'), \n",
    "( 'robotsInDepositPosition (Boolean)','robot2_jointAngle6 (Degrees)'), \n",
    "( 'robotsInDepositPosition (Boolean)','robot2_jointAngle7 (Degrees)'), \n",
    "( 'robotsAreMoving (Boolean)','robot1_joint1_velocity (Degrees/Seconds)'), \n",
    "('robotsAreMoving (Boolean)', 'robot1_joint2_velocity (Degrees/Seconds)'), \n",
    "( 'robotsAreMoving (Boolean)','robot1_joint3_velocity (Degrees/Seconds)'), \n",
    "( 'robotsAreMoving (Boolean)','robot1_joint4_velocity (Degrees/Seconds)'), \n",
    "( 'robotsAreMoving (Boolean)','robot1_joint5_velocity (Degrees/Seconds)'), \n",
    "( 'robotsAreMoving (Boolean)','robot1_joint6_velocity (Degrees/Seconds)'), \n",
    "( 'robotsAreMoving (Boolean)','robot1_joint7_velocity (Degrees/Seconds)'), \n",
    "('robotsAreMoving (Boolean)', 'robot2_joint1_velocity (Degrees/Seconds)'), \n",
    "( 'robotsAreMoving (Boolean)','robot2_joint2_velocity (Degrees/Seconds)'), \n",
    "('robotsAreMoving (Boolean)', 'robot2_joint3_velocity (Degrees/Seconds)'), \n",
    "('robotsAreMoving (Boolean)', 'robot2_joint4_velocity (Degrees/Seconds)'), \n",
    "('robotsAreMoving (Boolean)', 'robot2_joint5_velocity (Degrees/Seconds)'), \n",
    "('robotsAreMoving (Boolean)', 'robot2_joint6_velocity (Degrees/Seconds)'), \n",
    "('robotsAreMoving (Boolean)', 'robot2_joint7_velocity (Degrees/Seconds)'), \n",
    "( 'plateIsGripped (Boolean)' , 'torque (Newtonmeter)'),\n",
    "( 'plateDetectedOnShelf (Boolean)' ,'sensorShelf_detectionDistance (Meters)')   \n",
    "])"
   ]
  },
  {
   "cell_type": "code",
   "execution_count": 3,
   "id": "3bd669bb",
   "metadata": {},
   "outputs": [],
   "source": [
    "rootcauses = [ 'magneticPowerTooLowForPlate (Boolean)', 'beltIsBroken (Boolean)', \n",
    "             'PlateNotInPlace (Boolean)', 'robotsAreBroken (Boolean)', 'shelfSensorIsBroken (Boolean)']\n",
    "\n",
    "measurables = ['SensorBelt_detectionDistance (Meters)', \n",
    "               'robot1_jointAngle1 (Degrees)',\n",
    "              'robot1_jointAngle2 (Degrees)', 'robot1_jointAngle3 (Degrees)',\n",
    "               'robot1_jointAngle4 (Degrees)', 'robot1_jointAngle5 (Degrees)',\n",
    "               'robot1_jointAngle6 (Degrees)', 'robot1_jointAngle7 (Degrees)',\n",
    "               'robot2_jointAngle1 (Degrees)', 'robot2_jointAngle2 (Degrees)',\n",
    "               'robot2_jointAngle3 (Degrees)', 'robot2_jointAngle4 (Degrees)',\n",
    "               'robot2_jointAngle5 (Degrees)', 'robot2_jointAngle6 (Degrees)',\n",
    "               'robot2_jointAngle7 (Degrees)', \n",
    "               'robot1_joint1_velocity (Degrees/Seconds)',\n",
    "               'robot1_joint2_velocity (Degrees/Seconds)', 'robot1_joint3_velocity (Degrees/Seconds)',\n",
    "               'robot1_joint4_velocity (Degrees/Seconds)', 'robot1_joint5_velocity (Degrees/Seconds)',\n",
    "               'robot1_joint6_velocity (Degrees/Seconds)', 'robot1_joint7_velocity (Degrees/Seconds)',\n",
    "               'robot2_joint1_velocity (Degrees/Seconds)', 'robot2_joint2_velocity (Degrees/Seconds)',\n",
    "               'robot2_joint3_velocity (Degrees/Seconds)', 'robot2_joint4_velocity (Degrees/Seconds)',\n",
    "               'robot2_joint5_velocity (Degrees/Seconds)', 'robot2_joint6_velocity (Degrees/Seconds)',\n",
    "               'robot2_joint7_velocity (Degrees/Seconds)', \n",
    "               'beltSpeed (Centimeters/Second)', 'torque (Newtonmeter)',\n",
    "               'sensorShelf_detectionDistance (Meters)', 'powerConsumptionGripper (Watt)'\n",
    "             ]"
   ]
  },
  {
   "cell_type": "code",
   "execution_count": 4,
   "id": "7db723c9",
   "metadata": {},
   "outputs": [],
   "source": [
    "def find_all_causes_for(variable_name):\n",
    "    causes = []\n",
    "    variables_to_inspect= [variable_name]\n",
    "    inspected_variables = []\n",
    "    while variables_to_inspect != []:\n",
    "        inspected_variable = variables_to_inspect[0]\n",
    "        inspected_variables = inspected_variables + [inspected_variable]\n",
    "        \n",
    "        \n",
    "        parent_variables = find_direct_cause_for(inspected_variable)\n",
    "        if variables_to_inspect == []: break\n",
    "        \n",
    "        if parent_variables == []:\n",
    "            causes = causes + [variables_to_inspect[0]]\n",
    "            \n",
    "        if parent_variables != []:\n",
    "            for cause in parent_variables:\n",
    "                if cause not in inspected_variables:\n",
    "                    variables_to_inspect = variables_to_inspect + [cause]\n",
    "                    causes = causes + [cause]\n",
    "        variables_to_inspect.remove(inspected_variable)\n",
    "                    \n",
    "        \n",
    "    causes = list(set(causes))\n",
    "    return causes"
   ]
  },
  {
   "cell_type": "code",
   "execution_count": 5,
   "id": "a1f8764b",
   "metadata": {},
   "outputs": [],
   "source": [
    "def filter_all_rootcauses_from_causes(causes_list):\n",
    "    root_causes = [cause for cause in causes_list if cause in rootcauses]\n",
    "    return root_causes"
   ]
  },
  {
   "cell_type": "code",
   "execution_count": 6,
   "id": "9f000fb2",
   "metadata": {},
   "outputs": [],
   "source": [
    "def filter_all_measurables_from_causes(causes_list):\n",
    "    measurable_variables = [cause for cause in causes_list if cause in measurables]\n",
    "    return measurable_variables"
   ]
  },
  {
   "cell_type": "code",
   "execution_count": 7,
   "id": "1d86c57d",
   "metadata": {},
   "outputs": [],
   "source": [
    "def find_effected_variables_for(variable_name):\n",
    "    edge_list = G.out_edges(variable_name)\n",
    "    causes = [tuple[1] for tuple in edge_list]\n",
    "    return causes"
   ]
  },
  {
   "cell_type": "code",
   "execution_count": 8,
   "id": "f7959d32",
   "metadata": {},
   "outputs": [],
   "source": [
    "def find_direct_cause_for(variable_name):\n",
    "    edge_list = G.in_edges(variable_name)\n",
    "    causes = [tuple[0] for tuple in edge_list]\n",
    "    return (causes)\n",
    "    "
   ]
  },
  {
   "cell_type": "code",
   "execution_count": 9,
   "id": "bb3a4e51",
   "metadata": {},
   "outputs": [],
   "source": [
    "def find_all_effected_variables_for(variable_name):\n",
    "    causes = []\n",
    "    variables_to_inspect= [variable_name]\n",
    "    inspected_variables = []\n",
    "    while variables_to_inspect != []:\n",
    "        inspected_variable = variables_to_inspect[0]\n",
    "        inspected_variables = inspected_variables + [inspected_variable]\n",
    "        \n",
    "        \n",
    "        parent_variables = find_effected_variables_for(inspected_variable)\n",
    "        if variables_to_inspect == []: break\n",
    "        \n",
    "        if parent_variables == []:\n",
    "            causes = causes + [variables_to_inspect[0]]\n",
    "            \n",
    "        if parent_variables != []:\n",
    "            for cause in parent_variables:\n",
    "                if cause not in inspected_variables:\n",
    "                    variables_to_inspect = variables_to_inspect + [cause]\n",
    "                    causes = causes + [cause]\n",
    "        variables_to_inspect.remove(inspected_variable)\n",
    "                    \n",
    "        \n",
    "    causes = list(set(causes))\n",
    "    return causes\n"
   ]
  },
  {
   "cell_type": "code",
   "execution_count": null,
   "id": "dfec6d2a",
   "metadata": {},
   "outputs": [],
   "source": []
  },
  {
   "cell_type": "code",
   "execution_count": 10,
   "id": "6c552c02",
   "metadata": {},
   "outputs": [],
   "source": [
    "\n",
    "def jaccard_similarity(A, B):\n",
    "    #Find intersection of two sets\n",
    "    nominator = A.intersection(B)\n",
    "\n",
    "    #Find union of two sets\n",
    "    denominator = A.union(B)\n",
    "\n",
    "    #Take the ratio of sizes\n",
    "    similarity = len(nominator)/len(denominator)\n",
    "    \n",
    "    return similarity\n"
   ]
  },
  {
   "cell_type": "code",
   "execution_count": 11,
   "id": "b1898c81",
   "metadata": {},
   "outputs": [],
   "source": [
    "detected_faults = ['SensorBelt_detectionDistance (Meters)', 'torque (Newtonmeter)']"
   ]
  },
  {
   "cell_type": "code",
   "execution_count": 12,
   "id": "c0e75cd1",
   "metadata": {},
   "outputs": [
    {
     "name": "stdout",
     "output_type": "stream",
     "text": [
      "magneticPowerTooLowForPlate (Boolean) 0.3333333333333333 \n",
      "\n",
      "beltIsBroken (Boolean) 0.5 \n",
      "\n",
      "PlateNotInPlace (Boolean) 0.6666666666666666 \n",
      "\n",
      "robotsAreBroken (Boolean) 0.03225806451612903 \n",
      "\n",
      "shelfSensorIsBroken (Boolean) 0.0 \n",
      "\n"
     ]
    }
   ],
   "source": [
    "for possible_root_cause in  rootcauses:\n",
    "    affected_measurables =  filter_all_measurables_from_causes(find_all_effected_variables_for(possible_root_cause))\n",
    "    \n",
    "    print(possible_root_cause, jaccard_similarity(set(detected_faults), set(affected_measurables)), \"\\n\")"
   ]
  }
 ],
 "metadata": {
  "kernelspec": {
   "display_name": "Python 3 (ipykernel)",
   "language": "python",
   "name": "python3"
  },
  "language_info": {
   "codemirror_mode": {
    "name": "ipython",
    "version": 3
   },
   "file_extension": ".py",
   "mimetype": "text/x-python",
   "name": "python",
   "nbconvert_exporter": "python",
   "pygments_lexer": "ipython3",
   "version": "3.8.13"
  }
 },
 "nbformat": 4,
 "nbformat_minor": 5
}
